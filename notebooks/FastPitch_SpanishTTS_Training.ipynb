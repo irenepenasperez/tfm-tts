{
  "cells": [
    {
      "attachments": {},
      "cell_type": "markdown",
      "id": "2d65b905",
      "metadata": {
        "id": "2d65b905"
      },
      "source": [
        "# Modifying FastPitch to Train on a Non-English (German) Dataset\n",
        "\n",
        "This notebook is designed to provide a guide on how to train FastPitch on a German dataset from scratch as part of the TTS pipeline. It contains the following sections:\n",
        "  1. **Introduction**: FastPitch and HiFi-GAN in NeMo\n",
        "  2. **Dataset Preparation**: How to prepare German dataset for FastPitch\n",
        "  3. **Training**: Example of FastPitch training and evaluation\n",
        "  4. **Finetuning HiFi-GAN**: Improving speech quality by Finetuning HiFi-GAN on synthesized mel-spectrograms from FastPitch"
      ]
    },
    {
      "attachments": {},
      "cell_type": "markdown",
      "id": "42273266",
      "metadata": {
        "id": "42273266"
      },
      "source": [
        "# License\n",
        "\n",
        "> Copyright 2023 NVIDIA. All Rights Reserved.\n",
        ">\n",
        "> Licensed under the Apache License, Version 2.0 (the \"License\");\n",
        "> you may not use this file except in compliance with the License.\n",
        "> You may obtain a copy of the License at\n",
        ">\n",
        ">     http://www.apache.org/licenses/LICENSE-2.0\n",
        ">\n",
        "> Unless required by applicable law or agreed to in writing, software\n",
        "> distributed under the License is distributed on an \"AS IS\" BASIS,\n",
        "> WITHOUT WARRANTIES OR CONDITIONS OF ANY KIND, either express or implied.\n",
        "> See the License for the specific language governing permissions and\n",
        "> limitations under the License."
      ]
    },
    {
      "cell_type": "code",
      "execution_count": 7,
      "id": "f4c77c34",
      "metadata": {
        "colab": {
          "base_uri": "https://localhost:8080/",
          "height": 1000
        },
        "id": "f4c77c34",
        "outputId": "625727aa-664a-4843-fe79-a02e59e72eee"
      },
      "outputs": [],
      "source": [
        "# \"\"\"\n",
        "# You can run either this notebook locally (if you have all the dependencies and a GPU) or on Google Colab.\n",
        "\n",
        "# Instructions for setting up Colab are as follows:\n",
        "# 1. Open a new Python 3 notebook.\n",
        "# 2. Import this notebook from GitHub (File -> Upload Notebook -> \"GITHUB\" tab -> copy/paste GitHub URL).\n",
        "# 3. Connect to an instance with a GPU (Runtime -> Change runtime type -> select \"GPU\" for hardware accelerator).\n",
        "# 4. Run this cell to set up dependencies.\n",
        "# 5. Restart the runtime (Runtime -> Restart Runtime) for any upgraded packages to take effect.\n",
        "# \"\"\"\n",
        "\n",
        "# # If you're using Google Colab and not running locally, run this cell.\n",
        "\n",
        "# ## Install dependencies\n",
        "# !apt update\n",
        "# !apt-get install -y sox libsndfile1 ffmpeg\n",
        "# !pip install wget text-unidecode matplotlib>=3.3.2\n",
        "\n",
        "# ## Install NeMo\n",
        "# BRANCH = 'main'\n",
        "# !python -m pip install git+https://github.com/NVIDIA/NeMo.git@$BRANCH#egg=nemo_toolkit[all]\n",
        "\n",
        "# # ## Install pynini\n",
        "# # !wget https://raw.githubusercontent.com/NVIDIA/NeMo/$BRANCH/nemo_text_processing/install_pynini.sh\n",
        "# # !bash install_pynini.sh\n",
        "\n",
        "# !pip install pynini\n",
        "\n",
        "# \"\"\"\n",
        "# Remember to restart the runtime for the kernel to pick up any upgraded packages (e.g. matplotlib)!\n",
        "# Alternatively, you can uncomment the exit() below to crash and restart the kernel, in the case\n",
        "# that you want to use the \"Run All Cells\" (or similar) option.\n",
        "# \"\"\"\n",
        "# # exit()"
      ]
    },
    {
      "cell_type": "code",
      "execution_count": 2,
      "id": "f018747c",
      "metadata": {
        "id": "f018747c"
      },
      "outputs": [],
      "source": [
        "import json\n",
        "import nemo\n",
        "import torch\n",
        "import librosa\n",
        "import numpy as np\n",
        "\n",
        "from pathlib import Path\n",
        "from tqdm.notebook import tqdm"
      ]
    },
    {
      "cell_type": "code",
      "execution_count": 165,
      "id": "797bb19a",
      "metadata": {
        "id": "797bb19a"
      },
      "outputs": [],
      "source": [
        "# # let's download the files we need to run this tutorial\n",
        "# !rm -rf NeMoGermanTTS\n",
        "# !mkdir NeMoGermanTTS\n",
        "# !cd NeMoGermanTTS && wget https://raw.githubusercontent.com/nvidia/NeMo/$BRANCH/scripts/dataset_processing/tts/thorsten_neutral/get_data.py\n",
        "# !cd NeMoGermanTTS && wget https://raw.githubusercontent.com/nvidia/NeMo/$BRANCH/scripts/dataset_processing/tts/thorsten_neutral/ds_conf/ds_for_fastpitch_align.yaml\n",
        "# !cd NeMoGermanTTS && wget https://raw.githubusercontent.com/nvidia/NeMo/$BRANCH/examples/tts/fastpitch.py\n",
        "# !cd NeMoGermanTTS && wget https://raw.githubusercontent.com/nvidia/NeMo/$BRANCH/examples/tts/hifigan_finetune.py\n",
        "# !cd NeMoGermanTTS && wget https://raw.githubusercontent.com/nvidia/NeMo/$BRANCH/scripts/dataset_processing/tts/extract_sup_data.py\n",
        "# !cd NeMoGermanTTS && wget https://raw.githubusercontent.com/nvidia/NeMo/$BRANCH/scripts/dataset_processing/tts/generate_mels.py\n",
        "# !cd NeMoGermanTTS && wget https://raw.githubusercontent.com/NVIDIA/NeMo/$BRANCH/examples/tts/conf/de/fastpitch_align_22050_grapheme.yaml\n",
        "# !cd NeMoGermanTTS && wget https://raw.githubusercontent.com/NVIDIA/NeMo/$BRANCH/examples/tts/conf/hifigan/hifigan.yaml\n",
        "# !cd NeMoGermanTTS && mkdir -p model/train_ds && cd model/train_ds && wget https://raw.githubusercontent.com/nvidia/NeMo/$BRANCH/examples/tts/conf/hifigan/model/train_ds/train_ds_finetune.yaml\n",
        "# !cd NeMoGermanTTS && mkdir -p model/validation_ds && cd model/validation_ds && wget https://raw.githubusercontent.com/nvidia/NeMo/$BRANCH/examples/tts/conf/hifigan/model/validation_ds/val_ds_finetune.yaml\n",
        "# !cd NeMoGermanTTS && mkdir -p model/generator && cd model/generator && wget https://raw.githubusercontent.com/nvidia/NeMo/$BRANCH/examples/tts/conf/hifigan/model/generator/v1.yaml"
      ]
    },
    {
      "attachments": {},
      "cell_type": "markdown",
      "id": "d9e63f12",
      "metadata": {
        "id": "d9e63f12"
      },
      "source": [
        "# Introduction"
      ]
    },
    {
      "attachments": {},
      "cell_type": "markdown",
      "id": "74b10183",
      "metadata": {
        "id": "74b10183"
      },
      "source": [
        "### FastPitch\n",
        "\n",
        "FastPitch is non-autoregressive model for mel-spectrogram generation based on FastSpeech, conditioned on fundamental frequency contours. For more details about model, please refer to the original [paper](https://ieeexplore.ieee.org/abstract/document/9413889). Original [FastPitch model](https://ieeexplore.ieee.org/abstract/document/9413889) uses an external Tacotron 2 model trained on LJSpeech-1.1 to extract training alignments and estimate durations of input symbols. This implementation of FastPitch is based on [Deep Learning Examples](https://github.com/NVIDIA/DeepLearningExamples/tree/master/PyTorch/SpeechSynthesis/FastPitch), which uses an alignment mechanism proposed in [RAD-TTS](https://openreview.net/pdf?id=0NQwnnwAORi) and extended in [TTS Aligner](https://ieeexplore.ieee.org/stamp/stamp.jsp?tp=&arnumber=9747707).\n",
        "\n",
        "For more information on training a basic FastPitch model, please refer to [FastPitch_MixerTTS_Training.ipynb](https://github.com/NVIDIA/NeMo/blob/main/tutorials/tts/FastPitch_MixerTTS_Training.ipynb) tutorial.\n",
        "\n",
        "### HiFiGAN\n",
        "HiFiGAN is a generative adversarial network (GAN) model that generates audio from mel spectrograms. The generator uses transposed convolutions to upsample mel spectrograms to audio. For more details about the model, please refer to the original [paper](https://arxiv.org/abs/2010.05646). NeMo re-implementation of HiFi-GAN can be found [here](https://github.com/NVIDIA/NeMo/blob/main/nemo/collections/tts/models/hifigan.py)."
      ]
    },
    {
      "attachments": {},
      "cell_type": "markdown",
      "id": "f8b533b7",
      "metadata": {
        "id": "f8b533b7"
      },
      "source": [
        "# Dataset Preparation"
      ]
    },
    {
      "attachments": {},
      "cell_type": "markdown",
      "id": "89d94d7c",
      "metadata": {
        "id": "89d94d7c"
      },
      "source": [
        "We will show example of preprocessing and training using OpenSLR's German Neutral TTS dataset ([link](https://www.openslr.org/95)). It is a free single german speaker dataset (> 23 hours) by Thorsten Müller (voice) and Dominik Kreutz (audio optimization) for tts training.\n",
        "\n",
        "In this section, we will cover:\n",
        "1. Downloading the dataset\n",
        "2. Extracting supplementary data"
      ]
    },
    {
      "attachments": {},
      "cell_type": "markdown",
      "id": "0863d60c",
      "metadata": {
        "id": "0863d60c"
      },
      "source": [
        "## 1. Download Thorsten's Neutral Dataset and Create Data Manifests\n",
        "\n",
        "We've created a script, `scripts/dataset_processing/tts/thorsten_neutral/get_data.py`, to download Thorsten's Datasets and generate train/val/test splits as JSON manifests with the following fields for each datapoint:\n",
        "1. `audio_filepath`: location of the wav file;\n",
        "2. `duration`: duration of the wav file;\n",
        "3. `text`: original text;\n",
        "4. `normalized_text`: normalized text through our text normalization pipeline.\n",
        "\n",
        "This script supports processing either of Thorsten's Neutral Datasets 21.02 or 22.10. In this tutorial, we only focus on the latest 22.10 version dataset. Please refer [thorsten-muller-s-german-neutral-tts-datasets](https://docs.nvidia.com/deeplearning/nemo/user-guide/docs/en/main/tts/datasets.html#thorsten-muller-s-german-neutral-tts-datasets) for more details about Thorsten's datasets.\n",
        "\n",
        "You can run the below command to obtain the final manifests, `train_manifest_text_normed.json`, `val_manifest_text_normed.json` and `test_manifest_text_normed.json`. **Note** that this script would take sometime (~2 hours) to download and normalize the entire dataset."
      ]
    },
    {
      "cell_type": "code",
      "execution_count": 3,
      "id": "3384c8fe",
      "metadata": {
        "colab": {
          "base_uri": "https://localhost:8080/"
        },
        "id": "3384c8fe",
        "outputId": "e48afcee-ebb6-4386-d367-341d946d776c"
      },
      "outputs": [
        {
          "name": "stdout",
          "output_type": "stream",
          "text": [
            "[NeMo W 2023-08-04 11:51:11 nemo_logging:349] /usr/local/lib/python3.10/dist-packages/torchvision/io/image.py:13: UserWarning: Failed to load image Python extension: '/usr/local/lib/python3.10/dist-packages/torchvision/image.so: undefined symbol: _ZN3c104cuda9SetDeviceEi'If you don't plan on using image functionality from `torchvision.io`, you can ignore this warning. Otherwise, there might be something wrong with your environment. Did you have `libjpeg` or `libpng` installed before building `torchvision` from source?\n",
            "      warn(\n",
            "    \n",
            "Dataset directory found\n",
            "[NeMo I 2023-08-04 11:51:14 es_get_data:148] Preparing JSON train/val/test splits.\n",
            "137it [00:07, 18.84it/s]\n",
            "5it [00:00, 22.22it/s]\n",
            "3it [00:00, 15.20it/s]\n",
            "[NeMo I 2023-08-04 11:51:22 es_get_data:198] Preparing JSON train/val/test splits is complete.\n",
            "[NeMo I 2023-08-04 11:51:22 es_get_data:106] Saving JSON split to ../datasets/NemoSpanishTTSEsMapa152Finetuning/train_manifest.json.\n",
            "[NeMo I 2023-08-04 11:51:22 es_get_data:106] Saving JSON split to ../datasets/NemoSpanishTTSEsMapa152Finetuning/val_manifest.json.\n",
            "[NeMo I 2023-08-04 11:51:22 es_get_data:106] Saving JSON split to ../datasets/NemoSpanishTTSEsMapa152Finetuning/test_manifest.json.\n",
            "Normalizando:\n",
            "[NeMo I 2023-08-04 11:52:05 es_get_data:129] Normalizing text for ../datasets/NemoSpanishTTSEsMapa152Finetuning/train_manifest.json.\n",
            " 43%|██████████████████                        | 60/140 [00:13<00:22,  3.62it/s][NeMo W 2023-08-04 11:52:22 nemo_logging:349] /usr/local/lib/python3.10/dist-packages/joblib/externals/loky/process_executor.py:700: UserWarning: A worker stopped while some jobs were given to the executor. This can be caused by a too short worker timeout or by a memory leak.\n",
            "      warnings.warn(\n",
            "    \n",
            "100%|█████████████████████████████████████████| 140/140 [00:36<00:00,  3.79it/s]\n",
            "[NeMo I 2023-08-04 11:52:52 es_get_data:142] Normalizing text is complete: ../datasets/NemoSpanishTTSEsMapa152Finetuning/train_manifest.json --> ../datasets/NemoSpanishTTSEsMapa152Finetuning/train_manifest_text_normed.json\n",
            "[NeMo I 2023-08-04 11:53:36 es_get_data:129] Normalizing text for ../datasets/NemoSpanishTTSEsMapa152Finetuning/val_manifest.json.\n",
            "100%|████████████████████████████████████████████| 3/3 [00:00<00:00, 593.42it/s]\n",
            "[NeMo I 2023-08-04 11:53:37 es_get_data:142] Normalizing text is complete: ../datasets/NemoSpanishTTSEsMapa152Finetuning/val_manifest.json --> ../datasets/NemoSpanishTTSEsMapa152Finetuning/val_manifest_text_normed.json\n",
            "[NeMo I 2023-08-04 11:54:19 es_get_data:129] Normalizing text for ../datasets/NemoSpanishTTSEsMapa152Finetuning/test_manifest.json.\n",
            "100%|████████████████████████████████████████████| 2/2 [00:00<00:00, 529.78it/s]\n",
            "[NeMo I 2023-08-04 11:54:20 es_get_data:142] Normalizing text is complete: ../datasets/NemoSpanishTTSEsMapa152Finetuning/test_manifest.json --> ../datasets/NemoSpanishTTSEsMapa152Finetuning/test_manifest_text_normed.json\n"
          ]
        }
      ],
      "source": [
        "# # Version 22.10\n",
        "# !cd datasets/NemoSpanishTTS/ && python get_data.py \\\n",
        "#     --data-root ../../datasets \\\n",
        "#     --manifests-root ./ \\\n",
        "#     # --data-version \"22_10\" \\\n",
        "#     --val-size 100 \\\n",
        "#     --test-size 100 \\\n",
        "#     --seed-for-ds-split 100 \\\n",
        "#     --num-workers -1 \\\n",
        "#     --normalize-text\n",
        "    \n",
        "    # Version 22.10\n",
        "    \n",
        "# Funciona\n",
        "\n",
        "import os\n",
        "os.chdir(\"/home/irene/notebooks\")\n",
        "\n",
        "!python es_get_data.py \\\n",
        "    --data-root /home/irene/datasets \\\n",
        "    --manifests-root ../datasets/NemoSpanishTTSEsMapa152Finetuning \\\n",
        "    --val-size 3 \\\n",
        "    --test-size 2 \\\n",
        "    --seed-for-ds-split 87 \\\n",
        "    --num-workers -1 \\\n",
        "    --normalize-text\n"
      ]
    },
    {
      "attachments": {},
      "cell_type": "markdown",
      "id": "SJ1rPirdlDoy",
      "metadata": {
        "id": "SJ1rPirdlDoy"
      },
      "source": []
    },
    {
      "cell_type": "code",
      "execution_count": 167,
      "id": "8a7cf49e",
      "metadata": {
        "colab": {
          "base_uri": "https://localhost:8080/"
        },
        "id": "8a7cf49e",
        "outputId": "5d93e476-019c-477c-8afc-2e29b1ccc8de"
      },
      "outputs": [
        {
          "name": "stdout",
          "output_type": "stream",
          "text": [
            "19demarzo  metadata_dev.csv  metadata_test.csv\tmetadata_train.csv\n"
          ]
        }
      ],
      "source": [
        "# data_thorsten_2210 directory looks like\n",
        "!ls /datasets/datasetCastellanoReducido"
      ]
    },
    {
      "cell_type": "code",
      "execution_count": 168,
      "id": "y-14iaO0JvKw",
      "metadata": {
        "colab": {
          "base_uri": "https://localhost:8080/"
        },
        "id": "y-14iaO0JvKw",
        "outputId": "8f3f49b0-dca2-457d-ae5a-b3d960e262b3"
      },
      "outputs": [
        {
          "name": "stdout",
          "output_type": "stream",
          "text": [
            "19demarzo_3267|Juan de Dios, que al volver de su desmayo era completamente extra\n",
            "ño a la situación que nos encontrábamos, y no parecía tener ojos ni oídos más qu\n",
            "e para espectáculos y voces de su propia alma,|Juan de Dios, que al volver de su\n",
            " desmayo era completamente extraño a la situación que nos encontrábamos, y no pa\n",
            "recía tener ojos ni oídos más que para espectáculos y voces de su propia alma,\n",
            "19demarzo_3268|se adelantó hacia Inés con ademán embarazoso, y le dijo: -Pero Ga\n",
            "briel la habrá enterado a Vd. de todo. ¿La he ofendido a Vd. en algo?|se adelant\n",
            "ó hacia Inés con ademán embarazoso, y le dijo: -Pero Gabriel la habrá enterado a\n",
            " Usted de todo. ¿La he ofendido a Usted en algo?\n",
            "19demarzo_3269|Bien habrá comprendido Vd... -Este caballero -dijo Inés- está mue\n",
            "rto de miedo, y no se moverá de aquí. ¿Quiere Vd. esconderse en la cocina?|Bien \n",
            "habrá comprendido Usted -Este caballero -dijo Inés- está muerto de miedo, y no s\n",
            "e moverá de aquí. ¿Quiere Usted esconderse en la cocina?\n",
            "19demarzo_3270|-¡Miedo! ¡Que yo tengo miedo! -exclamó el mancebo con un repentin\n",
            "o arrebato que le puso encendido como la grana-. ¿A dónde vas,|-¡Miedo! ¡Que yo \n",
            "tengo miedo! -exclamó el mancebo con un repentino arrebato que le puso encendido\n",
            " como la grana-. ¿A dónde vas,\n",
            "19demarzo_3271|-A la calle -respondí saliendo-. A pelear por España. Yo no tengo\n",
            " miedo.|-A la calle -respondí saliendo-. A pelear por España. Yo no tengo miedo.\n",
            "\n",
            "19demarzo_3272|-Ni yo, ni yo tampoco -afirmó resuelta, furiosamente Juan de Dios\n",
            " corriendo detrás de mí.|-Ni yo, ni yo tampoco -afirmó resuelta, furiosamente Ju\n",
            "an de Dios corriendo detrás de mí.\n"
          ]
        }
      ],
      "source": [
        "! more /datasets/datasetCastellanoReducido/metadata_dev.csv"
      ]
    },
    {
      "cell_type": "code",
      "execution_count": 169,
      "id": "bc6f120f",
      "metadata": {
        "colab": {
          "base_uri": "https://localhost:8080/"
        },
        "id": "bc6f120f",
        "outputId": "7818d0b6-d924-48c3-8144-8ff9c2ea567c"
      },
      "outputs": [
        {
          "name": "stdout",
          "output_type": "stream",
          "text": [
            "./NemoSpanishTTS/test_manifest_text_normed.json\n",
            "./NemoSpanishTTS/train_manifest_text_normed.json\n",
            "./NemoSpanishTTS/val_manifest_text_normed.json\n"
          ]
        }
      ],
      "source": [
        "# manifests\n",
        "!ls ./NemoSpanishTTS/*_text_normed.json"
      ]
    },
    {
      "cell_type": "code",
      "execution_count": 53,
      "id": "1a3a6ab1",
      "metadata": {},
      "outputs": [
        {
          "data": {
            "text/plain": [
              "<_io.BufferedRandom name='/home/irene/datasets/datasetAlfonsoGutierrezFinetuning/asignaturaBueno/resumen_asignatura_bueno0.wav'>"
            ]
          },
          "execution_count": 53,
          "metadata": {},
          "output_type": "execute_result"
        }
      ],
      "source": [
        "from pydub import AudioSegment\n",
        "file_path = \"/home/irene/datasets/datasetAlfonsoGutierrezFinetuning/asignaturaBueno/resumen_asignatura_bueno0.wav\"\n",
        "sound = AudioSegment.from_wav(file_path)\n",
        "sound = sound.set_channels(1)\n",
        "sound.export(file_path, format=\"wav\")"
      ]
    },
    {
      "cell_type": "code",
      "execution_count": 7,
      "id": "37bea747",
      "metadata": {},
      "outputs": [
        {
          "name": "stdout",
          "output_type": "stream",
          "text": [
            "Converted file: esmapa0000.wav\n",
            "Converted file: esmapa0001.wav\n",
            "Converted file: esmapa0002.wav\n",
            "Converted file: esmapa0003.wav\n",
            "Converted file: esmapa0004.wav\n",
            "Converted file: esmapa0005.wav\n",
            "Converted file: esmapa0006.wav\n",
            "Converted file: esmapa0007.wav\n",
            "Converted file: esmapa0008.wav\n",
            "Converted file: esmapa0009.wav\n",
            "Converted file: esmapa0010.wav\n",
            "Converted file: esmapa0011.wav\n",
            "Converted file: esmapa0012.wav\n",
            "Converted file: esmapa0013.wav\n",
            "Converted file: esmapa0014.wav\n",
            "Converted file: esmapa0015.wav\n",
            "Converted file: esmapa0016.wav\n",
            "Converted file: esmapa0017.wav\n",
            "Converted file: esmapa0018.wav\n",
            "Converted file: esmapa0019.wav\n",
            "Converted file: esmapa0020.wav\n",
            "Converted file: esmapa0021.wav\n",
            "Converted file: esmapa0022.wav\n",
            "Converted file: esmapa0023.wav\n",
            "Converted file: esmapa0024.wav\n",
            "Converted file: esmapa0025.wav\n",
            "Converted file: esmapa0026.wav\n",
            "Converted file: esmapa0027.wav\n",
            "Converted file: esmapa0028.wav\n",
            "Converted file: esmapa0029.wav\n",
            "Converted file: esmapa0030.wav\n",
            "Converted file: esmapa0031.wav\n",
            "Converted file: esmapa0032.wav\n",
            "Converted file: esmapa0033.wav\n",
            "Converted file: esmapa0034.wav\n",
            "Converted file: esmapa0035.wav\n",
            "Converted file: esmapa0036.wav\n",
            "Converted file: esmapa0037.wav\n",
            "Converted file: esmapa0038.wav\n",
            "Converted file: esmapa0039.wav\n",
            "Converted file: esmapa0040.wav\n",
            "Converted file: esmapa0041.wav\n",
            "Converted file: esmapa0042.wav\n",
            "Converted file: esmapa0043.wav\n",
            "Converted file: esmapa0044.wav\n",
            "Converted file: esmapa0045.wav\n",
            "Converted file: esmapa0046.wav\n",
            "Converted file: esmapa0047.wav\n",
            "Converted file: esmapa0048.wav\n",
            "Converted file: esmapa0049.wav\n",
            "Converted file: esmapa0050.wav\n",
            "Converted file: esmapa0051.wav\n",
            "Converted file: esmapa0052.wav\n",
            "Converted file: esmapa0053.wav\n",
            "Converted file: esmapa0054.wav\n",
            "Converted file: esmapa0055.wav\n",
            "Converted file: esmapa0056.wav\n",
            "Converted file: esmapa0057.wav\n",
            "Converted file: esmapa0058.wav\n",
            "Converted file: esmapa0059.wav\n",
            "Converted file: esmapa0060.wav\n",
            "Converted file: esmapa0061.wav\n",
            "Converted file: esmapa0062.wav\n",
            "Converted file: esmapa0063.wav\n",
            "Converted file: esmapa0064.wav\n",
            "Converted file: esmapa0065.wav\n",
            "Converted file: esmapa0066.wav\n",
            "Converted file: esmapa0067.wav\n",
            "Converted file: esmapa0068.wav\n",
            "Converted file: esmapa0069.wav\n",
            "Converted file: esmapa0070.wav\n",
            "Converted file: esmapa0071.wav\n",
            "Converted file: esmapa0072.wav\n",
            "Converted file: esmapa0073.wav\n",
            "Converted file: esmapa0074.wav\n",
            "Converted file: esmapa0075.wav\n",
            "Converted file: esmapa0076.wav\n",
            "Converted file: esmapa0077.wav\n",
            "Converted file: esmapa0078.wav\n",
            "Converted file: esmapa0079.wav\n",
            "Converted file: esmapa0080.wav\n",
            "Converted file: esmapa0081.wav\n",
            "Converted file: esmapa0082.wav\n",
            "Converted file: esmapa0083.wav\n",
            "Converted file: esmapa0084.wav\n",
            "Converted file: esmapa0085.wav\n",
            "Converted file: esmapa0086.wav\n",
            "Converted file: esmapa0087.wav\n",
            "Converted file: esmapa0088.wav\n",
            "Converted file: esmapa0089.wav\n",
            "Converted file: esmapa0090.wav\n",
            "Converted file: esmapa0091.wav\n",
            "Converted file: esmapa0092.wav\n",
            "Converted file: esmapa0093.wav\n",
            "Converted file: esmapa0094.wav\n",
            "Converted file: esmapa0095.wav\n",
            "Converted file: esmapa0096.wav\n",
            "Converted file: esmapa0097.wav\n",
            "Converted file: esmapa0098.wav\n",
            "Converted file: esmapa0099.wav\n",
            "Converted file: esmapa0100.wav\n",
            "Converted file: esmapa0101.wav\n",
            "Converted file: esmapa0102.wav\n",
            "File not found: esmapa0103.wav\n",
            "Converted file: esmapa0104.wav\n",
            "Converted file: esmapa0105.wav\n",
            "File not found: esmapa0106.wav\n",
            "Converted file: esmapa0107.wav\n",
            "Converted file: esmapa0108.wav\n",
            "Converted file: esmapa0109.wav\n",
            "Converted file: esmapa0110.wav\n",
            "Converted file: esmapa0111.wav\n",
            "Converted file: esmapa0112.wav\n",
            "File not found: esmapa0113.wav\n",
            "Converted file: esmapa0114.wav\n",
            "Converted file: esmapa0115.wav\n",
            "Converted file: esmapa0116.wav\n",
            "Converted file: esmapa0117.wav\n",
            "Converted file: esmapa0118.wav\n",
            "File not found: esmapa0119.wav\n",
            "Converted file: esmapa0120.wav\n",
            "Converted file: esmapa0121.wav\n",
            "Converted file: esmapa0122.wav\n",
            "Converted file: esmapa0123.wav\n",
            "Converted file: esmapa0124.wav\n",
            "Converted file: esmapa0125.wav\n",
            "Converted file: esmapa0126.wav\n",
            "Converted file: esmapa0127.wav\n",
            "Converted file: esmapa0128.wav\n",
            "Converted file: esmapa0129.wav\n",
            "File not found: esmapa0130.wav\n",
            "Converted file: esmapa0131.wav\n",
            "Converted file: esmapa0132.wav\n",
            "Converted file: esmapa0133.wav\n",
            "File not found: esmapa0134.wav\n",
            "Converted file: esmapa0135.wav\n",
            "Converted file: esmapa0136.wav\n",
            "Converted file: esmapa0137.wav\n",
            "Converted file: esmapa0138.wav\n",
            "Converted file: esmapa0139.wav\n",
            "File not found: esmapa0140.wav\n",
            "Converted file: esmapa0141.wav\n",
            "Converted file: esmapa0142.wav\n",
            "File not found: esmapa0143.wav\n",
            "Converted file: esmapa0144.wav\n",
            "Converted file: esmapa0145.wav\n",
            "Converted file: esmapa0146.wav\n",
            "Converted file: esmapa0147.wav\n",
            "Converted file: esmapa0148.wav\n",
            "Converted file: esmapa0149.wav\n",
            "Converted file: esmapa0150.wav\n",
            "Converted file: esmapa0151.wav\n",
            "Converted file: esmapa0152.wav\n"
          ]
        }
      ],
      "source": [
        "#Esto soluciona un error de canales: así si que se extrae la información suplementaria: se pasa de estereo a mono.\n",
        "from pydub import AudioSegment\n",
        "import os\n",
        "\n",
        "folder_path = \"/home/irene/datasets/datasetEsMapa152Finetuning/esmapa152\"\n",
        "\n",
        "# Iterate over the files in the folder\n",
        "# for i in range(92):\n",
        "    # file_name = f\"esmapa{i}.wav\" # Formato normal datasetBueno\n",
        "for i in range(153):\n",
        "    file_name = f\"esmapa{i:04d}.wav\"  # Formato con varios 0 DatasetEsMapa\n",
        "    file_path = os.path.join(folder_path, file_name)\n",
        "\n",
        "    # Check if the file exists before processing\n",
        "    if os.path.exists(file_path):\n",
        "        # Load the audio file\n",
        "        sound = AudioSegment.from_wav(file_path)\n",
        "\n",
        "        # Set the number of channels to 1\n",
        "        sound = sound.set_channels(1)\n",
        "\n",
        "        # Export the modified audio back to the same file path\n",
        "        sound.export(file_path, format=\"wav\")\n",
        "\n",
        "        print(f\"Converted file: {file_name}\")\n",
        "    else:\n",
        "        print(f\"File not found: {file_name}\")\n",
        "\n"
      ]
    },
    {
      "attachments": {},
      "cell_type": "markdown",
      "id": "1c42e260",
      "metadata": {
        "id": "1c42e260"
      },
      "source": [
        "## 2. Extracting Supplementary Data\n",
        "\n",
        "As mentioned in the [FastPitch and MixerTTS training tutorial](FastPitch_MixerTTS_Training.ipynb) - To accelerate and stabilize our training, we also need to extract pitch for every audio, estimate pitch statistics (mean, std, min, and max). To do this, all we need to do is iterate over our data one time, via `extract_sup_data.py` script.\n",
        "\n",
        "**Note**: This is an optional step, if skipped, it will be automatically executed within the first epoch of training FastPitch."
      ]
    },
    {
      "attachments": {},
      "cell_type": "markdown",
      "id": "13d1a32b",
      "metadata": {
        "id": "13d1a32b"
      },
      "source": [
        "The configuration remains the same as described in `scripts/dataset_processing/tts/thorsten_neutral/ds_conf/ds_for_fastpitch_align.yaml`. Note that there is no need to specify `whitelist_path` config anymore from NeMo Release 1.17.0 because it has been moved to a new dependency repo https://github.com/NVIDIA/NeMo-text-processing and it has been applied implicitly."
      ]
    },
    {
      "attachments": {},
      "cell_type": "markdown",
      "id": "9588c280",
      "metadata": {
        "id": "9588c280"
      },
      "source": [
        "Run below command line and you will obtain the pitch normalization parameters estimated on the entire dataset. It will cost around 1.5 hours."
      ]
    },
    {
      "cell_type": "code",
      "execution_count": 8,
      "id": "808b5048",
      "metadata": {
        "colab": {
          "base_uri": "https://localhost:8080/"
        },
        "id": "808b5048",
        "outputId": "7c783a42-cdc1-4ecc-f24b-b2eb0484f738"
      },
      "outputs": [
        {
          "name": "stdout",
          "output_type": "stream",
          "text": [
            "/usr/local/lib/python3.10/dist-packages/torchvision/io/image.py:13: UserWarning: Failed to load image Python extension: '/usr/local/lib/python3.10/dist-packages/torchvision/image.so: undefined symbol: _ZN3c104cuda9SetDeviceEi'If you don't plan on using image functionality from `torchvision.io`, you can ignore this warning. Otherwise, there might be something wrong with your environment. Did you have `libjpeg` or `libpng` installed before building `torchvision` from source?\n",
            "  warn(\n",
            "[NeMo W 2023-08-04 12:14:04 optimizers:66] Could not import distributed_fused_adam optimizer from Apex\n",
            "[NeMo W 2023-08-04 12:14:04 nemo_logging:349] /usr/local/lib/python3.10/dist-packages/hydra/_internal/hydra.py:119: UserWarning: Future Hydra versions will no longer change working directory at job runtime by default.\n",
            "    See https://hydra.cc/docs/next/upgrades/1.1_to_1.2/changes_to_job_working_dir/ for more information.\n",
            "      ret = run_job(\n",
            "    \n",
            "[NeMo W 2023-08-04 12:14:06 experimental:27] Module <class 'nemo.collections.asr.modules.audio_modules.SpectrogramToMultichannelFeatures'> is experimental, not ready for production and is not fully supported. Use at your own risk.\n",
            "[NeMo W 2023-08-04 12:14:06 experimental:27] Module <class 'nemo.collections.tts.models.fastpitch_ssl.FastPitchModel_SSL'> is experimental, not ready for production and is not fully supported. Use at your own risk.\n",
            "[NeMo W 2023-08-04 12:14:06 experimental:27] Module <class 'nemo.collections.common.tokenizers.text_to_speech.tts_tokenizers.IPATokenizer'> is experimental, not ready for production and is not fully supported. Use at your own risk.\n",
            "[NeMo W 2023-08-04 12:14:06 experimental:27] Module <class 'nemo.collections.tts.models.radtts.RadTTSModel'> is experimental, not ready for production and is not fully supported. Use at your own risk.\n",
            "[NeMo W 2023-08-04 12:14:06 experimental:27] Module <class 'nemo.collections.tts.models.ssl_tts.SSLDisentangler'> is experimental, not ready for production and is not fully supported. Use at your own risk.\n",
            "[NeMo W 2023-08-04 12:14:06 experimental:27] Module <class 'nemo.collections.tts.models.vits.VitsModel'> is experimental, not ready for production and is not fully supported. Use at your own risk.\n",
            "[NeMo I 2023-08-04 12:14:42 dataset:228] Loading dataset from train_manifest_text_normed.json.\n",
            "140it [00:00, 26200.36it/s]\n",
            "[NeMo I 2023-08-04 12:14:42 dataset:266] Loaded dataset with 140 files.\n",
            "[NeMo I 2023-08-04 12:14:42 dataset:268] Dataset contains 0.37 hours.\n",
            "[NeMo I 2023-08-04 12:14:42 dataset:376] Pruned 0 files. Final dataset contains 140 files\n",
            "[NeMo I 2023-08-04 12:14:42 dataset:378] Pruned 0.00 hours. Final dataset contains 0.37 hours.\n",
            "Processing train_manifest_text_normed.json:\n",
            "100%|█████████████████████████████████████████| 140/140 [03:17<00:00,  1.41s/it]\n",
            "PITCH_MEAN=117.99466705322266, PITCH_STD=37.657745361328125\n",
            "PITCH_MIN=65.4063949584961, PITCH_MAX=1421.33056640625\n"
          ]
        }
      ],
      "source": [
        "# !cd /home/irene/datasets/NemoSpanishTTS && HYDRA_FULL_ERROR=1 python extract_sup_data.py \\\n",
        "#         --config-path . \\\n",
        "#         --config-name ds_for_fastpitch_align.yaml \\\n",
        "#         manifest_filepath=train_manifest_text_normed.json \\\n",
        "#         sup_data_path=sup_data \\\n",
        "#         ++dataloader_params.num_workers=4 \n",
        "        \n",
        "#FUNCIONA: Había que cambiar los canales, para los audios del profe de Segovia\n",
        "import glob, os\n",
        "os.chdir(\"/home/irene/datasets/NemoSpanishTTSEsMapa152Finetuning\")\n",
        "\n",
        "!python extract_sup_data.py \\\n",
        "        --config-path ./ \\\n",
        "        --config-name ds_for_fastpitch_align.yaml \\\n",
        "        manifest_filepath=train_manifest_text_normed.json \\\n",
        "        sup_data_path=sup_data \\\n",
        "        ++dataloader_params.num_workers=4"
      ]
    },
    {
      "attachments": {},
      "cell_type": "markdown",
      "id": "bb2d7f2b",
      "metadata": {
        "id": "bb2d7f2b"
      },
      "source": [
        "After running the above command line, you will observe a new folder `NeMoGermanTTS/sup_data/pitch` and printouts of pitch statistics below. Specify these values to the FastPitch training configurations. We will be there in the following section.\n",
        "```bash\n",
        "PITCH_MEAN=126.73465728759766, PITCH_STD=38.099849700927734\n",
        "PITCH_MIN=65.4063949584961, PITCH_MAX=2021.7091064453125\n",
        "\n",
        "```"
      ]
    },
    {
      "attachments": {},
      "cell_type": "markdown",
      "id": "6f4c41e9",
      "metadata": {
        "id": "6f4c41e9"
      },
      "source": [
        "# Training"
      ]
    },
    {
      "attachments": {},
      "cell_type": "markdown",
      "id": "14c2ff60",
      "metadata": {
        "id": "14c2ff60"
      },
      "source": [
        "Before we train our model, let's define model config. Most of the model config stays the same as defined here: `examples/tts/conf/de/fastpitch_align_22050_grapheme.yaml`, except that the `pitch_mean` and `pitch_std` should be updated with the values estimated by the above `extract_sup_data.py` script. Note that there is no need to specify `whitelist_path` config anymore from NeMo Release 1.17.0 because it has been moved to a new dependency repo https://github.com/NVIDIA/NeMo-text-processing and it has been applied implicitly."
      ]
    },
    {
      "attachments": {},
      "cell_type": "markdown",
      "id": "ac938960",
      "metadata": {
        "id": "ac938960"
      },
      "source": [
        "If you are using Weights and Biases, you may need to login first. More details [here](https://docs.wandb.ai/ref/cli/wandb-login)."
      ]
    },
    {
      "cell_type": "code",
      "execution_count": 9,
      "id": "0ab8b471",
      "metadata": {
        "colab": {
          "base_uri": "https://localhost:8080/"
        },
        "id": "0ab8b471",
        "outputId": "5ce9728f-a36b-4445-c41f-89379dd0f5ce",
        "tags": [
          "parameters"
        ]
      },
      "outputs": [
        {
          "name": "stdout",
          "output_type": "stream",
          "text": [
            "\u001b[34m\u001b[1mwandb\u001b[0m: Appending key for api.wandb.ai to your netrc file: /root/.netrc\n"
          ]
        }
      ],
      "source": [
        "!wandb login 7f8717dd64209b51a51493f579c375a7ca34fd2f"
      ]
    },
    {
      "attachments": {},
      "cell_type": "markdown",
      "id": "d4364261",
      "metadata": {
        "id": "d4364261"
      },
      "source": [
        "Now we are ready for training our model! Let's try to train FastPitch. Copy and Paste the `PITCH_MEAN` and `PITCH_STD` from previous steps to override `pitch_mean` and `pitch_std` configs below."
      ]
    },
    {
      "cell_type": "code",
      "execution_count": 215,
      "id": "EGBc33oyaKVH",
      "metadata": {
        "id": "EGBc33oyaKVH"
      },
      "outputs": [],
      "source": [
        "# !(cd NemoSpanishTTS && CUDA_VISIBLE_DEVICES=0 python fastpitch.py --config-path . --config-name fastpitch_align_22050_grapheme \\\n",
        "#   model.train_ds.dataloader_params.batch_size=32 \\\n",
        "#     model.validation_ds.dataloader_params.batch_size=32 \\\n",
        "#     train_dataset=train_manifest_text_normed.json \\\n",
        "#     validation_datasets=val_manifest_text_normed.json \\\n",
        "#     sup_data_path=sup_data \\\n",
        "#     exp_manager.exp_dir=resultGermanTTS \\\n",
        "#     trainer.max_epochs=1 \\\n",
        "#     trainer.check_val_every_n_epoch=1 \\\n",
        "#     pitch_mean=126.73465728759766 \\\n",
        "#     pitch_std=38.099849700927734 \\\n",
        "#     +exp_manager.create_wandb_logger=true \\\n",
        "#     +exp_manager.wandb_logger_kwargs.name=\"tutorial\" \\\n",
        "#     +exp_manager.wandb_logger_kwargs.project=\"GermanTTS\")"
      ]
    },
    {
      "cell_type": "code",
      "execution_count": 18,
      "id": "5431cb86",
      "metadata": {},
      "outputs": [
        {
          "name": "stdout",
          "output_type": "stream",
          "text": [
            "/home/irene/notebooks\n"
          ]
        }
      ],
      "source": [
        "!pwd"
      ]
    },
    {
      "cell_type": "code",
      "execution_count": 20,
      "id": "0e8e0cd7",
      "metadata": {
        "colab": {
          "base_uri": "https://localhost:8080/"
        },
        "id": "0e8e0cd7",
        "outputId": "7a486117-74d1-455b-eebe-c5441f622b0a"
      },
      "outputs": [
        {
          "name": "stdout",
          "output_type": "stream",
          "text": [
            "[NeMo W 2023-06-27 15:47:39 optimizers:54] Apex was not found. Using the lamb or fused_adam optimizer will error out.\n",
            "2023-06-27 15:47:40.726908: I tensorflow/core/platform/cpu_feature_guard.cc:183] This TensorFlow binary is optimized to use available CPU instructions in performance-critical operations.\n",
            "To enable the following instructions: SSE3 SSE4.1 SSE4.2 AVX, in other operations, rebuild TensorFlow with the appropriate compiler flags.\n",
            "[NeMo W 2023-06-27 15:47:42 nemo_logging:349] /usr/local/lib/python3.10/dist-packages/hydra/_internal/hydra.py:119: UserWarning: Future Hydra versions will no longer change working directory at job runtime by default.\n",
            "    See https://hydra.cc/docs/next/upgrades/1.1_to_1.2/changes_to_job_working_dir/ for more information.\n",
            "      ret = run_job(\n",
            "    \n",
            "Using 16bit None Automatic Mixed Precision (AMP)\n",
            "GPU available: True (cuda), used: True\n",
            "TPU available: False, using: 0 TPU cores\n",
            "IPU available: False, using: 0 IPUs\n",
            "HPU available: False, using: 0 HPUs\n",
            "[NeMo I 2023-06-27 15:47:42 exp_manager:374] Experiments will be logged at resultSpanishTTS/FastPitch/2023-06-27_15-47-42\n",
            "[NeMo I 2023-06-27 15:47:42 exp_manager:797] TensorboardLogger has been set up\n",
            "\u001b[34m\u001b[1mwandb\u001b[0m: Currently logged in as: \u001b[33mirenesistemasconversacionales\u001b[0m (\u001b[33mtfmi\u001b[0m). Use \u001b[1m`wandb login --relogin`\u001b[0m to force relogin\n",
            "\u001b[34m\u001b[1mwandb\u001b[0m: Tracking run with wandb version 0.15.4\n",
            "\u001b[34m\u001b[1mwandb\u001b[0m: Run data is saved locally in \u001b[35m\u001b[1mresultSpanishTTS/wandb/run-20230627_154743-2023-06-27_15-47-42\u001b[0m\n",
            "\u001b[34m\u001b[1mwandb\u001b[0m: Run \u001b[1m`wandb offline`\u001b[0m to turn off syncing.\n",
            "\u001b[34m\u001b[1mwandb\u001b[0m: Syncing run \u001b[33mtutorial\u001b[0m\n",
            "\u001b[34m\u001b[1mwandb\u001b[0m: ⭐️ View project at \u001b[34m\u001b[4mhttps://wandb.ai/tfmi/SpanishTTS\u001b[0m\n",
            "\u001b[34m\u001b[1mwandb\u001b[0m: 🚀 View run at \u001b[34m\u001b[4mhttps://wandb.ai/tfmi/SpanishTTS/runs/2023-06-27_15-47-42\u001b[0m\n",
            "[NeMo I 2023-06-27 15:47:44 exp_manager:812] WandBLogger has been set up\n",
            "Creating ClassifyFst grammars. This might take some time...\n",
            "[NeMo I 2023-06-27 15:48:21 dataset:228] Loading dataset from train_manifest_text_normed.json.\n",
            "0it [00:00, ?it/s][NeMo W 2023-06-27 15:48:21 tts_tokenizers:158] Text: [´-continuó la primorosa, tirando por los faldones al currutaco-. ¡quítese de ahí que me estorba! -mujer, deja en paz a ese caballero.] contains unknown char: [´]. Symbol will be skipped.\n",
            "[NeMo W 2023-06-27 15:48:21 tts_tokenizers:158] Text: [solvet sæclum in favilla, teste david cum sibylla. -váyase vosotros, señor santurrias -exclamó el cura-.] contains unknown char: [æ]. Symbol will be skipped.\n",
            "[NeMo W 2023-06-27 15:48:21 tts_tokenizers:158] Text: [¿has saludado siquiera el divitias alius fulvo sibi congerat auro, el passer, delitiæ meæ puellæ,] contains unknown char: [æ]. Symbol will be skipped.\n",
            "[NeMo W 2023-06-27 15:48:21 tts_tokenizers:158] Text: [¿has saludado siquiera el divitias alius fulvo sibi congerat auro, el passer, delitiæ meæ puellæ,] contains unknown char: [æ]. Symbol will be skipped.\n",
            "[NeMo W 2023-06-27 15:48:21 tts_tokenizers:158] Text: [¿has saludado siquiera el divitias alius fulvo sibi congerat auro, el passer, delitiæ meæ puellæ,] contains unknown char: [æ]. Symbol will be skipped.\n",
            "[NeMo W 2023-06-27 15:48:21 tts_tokenizers:158] Text: [aquí nos están haciendo la gran jugarreta. esta mañana estuvo en casa a tomarme medida de unos zapatos</a>,] contains unknown char: [<]. Symbol will be skipped.\n",
            "[NeMo W 2023-06-27 15:48:21 tts_tokenizers:158] Text: [aquí nos están haciendo la gran jugarreta. esta mañana estuvo en casa a tomarme medida de unos zapatos</a>,] contains unknown char: [>]. Symbol will be skipped.\n",
            "[NeMo W 2023-06-27 15:48:21 tts_tokenizers:158] Text: [´-ya estás libre, condesilla -dije reclinándome sobre el pecho de inés-.] contains unknown char: [´]. Symbol will be skipped.\n",
            "[NeMo W 2023-06-27 15:48:21 tts_tokenizers:158] Text: [confiemos en él, y entre tanto oye un proyecto que esta madrugada me ha ocurrido. hace ocho días estaba en aranjuez la señora marquesa de***,] contains unknown char: [*]. Symbol will be skipped.\n",
            "[NeMo W 2023-06-27 15:48:21 tts_tokenizers:158] Text: [confiemos en él, y entre tanto oye un proyecto que esta madrugada me ha ocurrido. hace ocho días estaba en aranjuez la señora marquesa de***,] contains unknown char: [*]. Symbol will be skipped.\n",
            "[NeMo W 2023-06-27 15:48:21 tts_tokenizers:158] Text: [confiemos en él, y entre tanto oye un proyecto que esta madrugada me ha ocurrido. hace ocho días estaba en aranjuez la señora marquesa de***,] contains unknown char: [*]. Symbol will be skipped.\n",
            "[NeMo W 2023-06-27 15:48:21 tts_tokenizers:158] Text: [¿qué sabes tú si de la mañana a la noche verás a inés hecha una damisela, con carroza y pajes</a>, llena de diamantes como avellanas, y viviendo en uno de esos caserones que hay en madrid más grandes que conventos?] contains unknown char: [<]. Symbol will be skipped.\n",
            "[NeMo W 2023-06-27 15:48:21 tts_tokenizers:158] Text: [¿qué sabes tú si de la mañana a la noche verás a inés hecha una damisela, con carroza y pajes</a>, llena de diamantes como avellanas, y viviendo en uno de esos caserones que hay en madrid más grandes que conventos?] contains unknown char: [>]. Symbol will be skipped.\n",
            "2587it [00:00, 25361.80it/s]\n",
            "[NeMo I 2023-06-27 15:48:21 dataset:266] Loaded dataset with 2587 files.\n",
            "[NeMo I 2023-06-27 15:48:21 dataset:268] Dataset contains 5.58 hours.\n",
            "[NeMo I 2023-06-27 15:48:21 dataset:376] Pruned 9 files. Final dataset contains 2578 files\n",
            "[NeMo I 2023-06-27 15:48:21 dataset:378] Pruned 0.04 hours. Final dataset contains 5.54 hours.\n",
            "[NeMo I 2023-06-27 15:48:21 dataset:228] Loading dataset from val_manifest_text_normed.json.\n",
            "100it [00:00, 4545.14it/s]\n",
            "[NeMo I 2023-06-27 15:48:21 dataset:266] Loaded dataset with 100 files.\n",
            "[NeMo I 2023-06-27 15:48:21 dataset:268] Dataset contains 0.21 hours.\n",
            "[NeMo I 2023-06-27 15:48:21 dataset:376] Pruned 0 files. Final dataset contains 100 files\n",
            "[NeMo I 2023-06-27 15:48:21 dataset:378] Pruned 0.00 hours. Final dataset contains 0.21 hours.\n",
            "[NeMo I 2023-06-27 15:48:21 features:289] PADDING: 1\n",
            "Initializing distributed: GLOBAL_RANK: 0, MEMBER: 1/1\n",
            "Added key: store_based_barrier_key:1 to store for rank: 0\n",
            "Rank 0: Completed store-based barrier for key:store_based_barrier_key:1 with 1 nodes.\n",
            "----------------------------------------------------------------------------------------------------\n",
            "distributed_backend=nccl\n",
            "All distributed processes registered. Starting with 1 processes\n",
            "----------------------------------------------------------------------------------------------------\n",
            "\n",
            "LOCAL_RANK: 0 - CUDA_VISIBLE_DEVICES: [0]\n",
            "[NeMo I 2023-06-27 15:48:22 modelPT:721] Optimizer config = AdamW (\n",
            "    Parameter Group 0\n",
            "        amsgrad: False\n",
            "        betas: [0.9, 0.999]\n",
            "        capturable: False\n",
            "        differentiable: False\n",
            "        eps: 1e-08\n",
            "        foreach: None\n",
            "        fused: None\n",
            "        lr: 0.001\n",
            "        maximize: False\n",
            "        weight_decay: 1e-06\n",
            "    )\n",
            "[NeMo I 2023-06-27 15:48:22 lr_scheduler:910] Scheduler \"<nemo.core.optim.lr_scheduler.NoamAnnealing object at 0x7fe5955cdb40>\" \n",
            "    will be used during training (effective maximum steps = 121500) - \n",
            "    Parameters : \n",
            "    (warmup_steps: 1000\n",
            "    last_epoch: -1\n",
            "    d_model: 1\n",
            "    max_steps: 121500\n",
            "    )\n",
            "\n",
            "  | Name                | Type                              | Params\n",
            "--------------------------------------------------------------------------\n",
            "0 | mel_loss_fn         | MelLoss                           | 0     \n",
            "1 | pitch_loss_fn       | PitchLoss                         | 0     \n",
            "2 | duration_loss_fn    | DurationLoss                      | 0     \n",
            "3 | energy_loss_fn      | EnergyLoss                        | 0     \n",
            "4 | aligner             | AlignmentEncoder                  | 1.0 M \n",
            "5 | forward_sum_loss_fn | ForwardSumLoss                    | 0     \n",
            "6 | bin_loss_fn         | BinLoss                           | 0     \n",
            "7 | preprocessor        | AudioToMelSpectrogramPreprocessor | 0     \n",
            "8 | fastpitch           | FastPitchModule                   | 45.7 M\n",
            "--------------------------------------------------------------------------\n",
            "45.7 M    Trainable params\n",
            "0         Non-trainable params\n",
            "45.7 M    Total params\n",
            "91.474    Total estimated model params size (MB)\n",
            "Sanity Checking: 0it [00:00, ?it/s]ERROR: Unexpected bus error encountered in worker. This might be caused by insufficient shared memory (shm).\n",
            "\u0000ERROR: Unexpected bus error encountered in worker. This might be caused by insufficient shared memory (shm).\n",
            "\u0000"
          ]
        }
      ],
      "source": [
        "!(cd /home/irene/datasets/NemoSpanishTTS && CUDA_VISIBLE_DEVICES=0 python fastpitch.py --config-path . --config-name fastpitch_align_44100 \\\n",
        "  model.train_ds.dataloader_params.batch_size=32 \\\n",
        "    model.validation_ds.dataloader_params.batch_size=32 \\\n",
        "    train_dataset=train_manifest_text_normed.json \\\n",
        "    validation_datasets=val_manifest_text_normed.json \\\n",
        "    sup_data_path=sup_data \\\n",
        "    exp_manager.exp_dir=resultSpanishTTS \\\n",
        "    trainer.check_val_every_n_epoch=1 \\\n",
        "    pitch_mean=126.73465728759766 \\\n",
        "    pitch_std=38.099849700927734 \\\n",
        "    +exp_manager.create_wandb_logger=true \\\n",
        "    +exp_manager.wandb_logger_kwargs.name=\"tutorial\" \\\n",
        "    +exp_manager.wandb_logger_kwargs.project=\"SpanishTTS\")"
      ]
    },
    {
      "attachments": {},
      "cell_type": "markdown",
      "id": "fe0bfbb9",
      "metadata": {
        "id": "fe0bfbb9"
      },
      "source": [
        "Note:\n",
        "1. We use `CUDA_VISIBLE_DEVICES=0` to limit training to single GPU.\n",
        "2. For debugging you may also add the following flags: `HYDRA_FULL_ERROR=1`, `CUDA_LAUNCH_BLOCKING=1`\n",
        "\n",
        "<b>Note</b>: We've limited the above run to 1 epoch only, so we can validate the implementation within the scope of this tutorial. We recommend around 5000 epochs when training FastPitch from scratch."
      ]
    },
    {
      "attachments": {},
      "cell_type": "markdown",
      "id": "632d51b0",
      "metadata": {
        "id": "632d51b0"
      },
      "source": [
        "## Evaluating FastPitch + pretrained HiFi-GAN\n",
        "\n",
        "Let's evaluate the quality of the FastPitch model generated so far using a HiFi-GAN model pre-trained on English."
      ]
    },
    {
      "cell_type": "code",
      "execution_count": 6,
      "id": "053a00a2",
      "metadata": {
        "id": "053a00a2"
      },
      "outputs": [
        {
          "name": "stderr",
          "output_type": "stream",
          "text": [
            "[NeMo W 2023-06-28 16:17:24 optimizers:54] Apex was not found. Using the lamb or fused_adam optimizer will error out.\n"
          ]
        },
        {
          "name": "stdout",
          "output_type": "stream",
          "text": [
            "Extension horovod.torch has not been built: /usr/local/lib/python3.10/dist-packages/horovod/torch/mpi_lib_v2.cpython-310-x86_64-linux-gnu.so not found\n",
            "If this is not expected, reinstall Horovod with HOROVOD_WITH_PYTORCH=1 to debug the build error.\n",
            "Warning! MPI libs are missing, but python applications are still available.\n"
          ]
        },
        {
          "name": "stderr",
          "output_type": "stream",
          "text": [
            "2023-06-28 16:17:25.537539: I tensorflow/core/platform/cpu_feature_guard.cc:183] This TensorFlow binary is optimized to use available CPU instructions in performance-critical operations.\n",
            "To enable the following instructions: SSE3 SSE4.1 SSE4.2 AVX, in other operations, rebuild TensorFlow with the appropriate compiler flags.\n"
          ]
        }
      ],
      "source": [
        "import IPython.display as ipd\n",
        "from nemo.collections.tts.models import HifiGanModel, FastPitchModel\n",
        "from matplotlib.pyplot import imshow\n",
        "from matplotlib import pyplot as plt"
      ]
    },
    {
      "cell_type": "code",
      "execution_count": 2,
      "id": "d82bc36b",
      "metadata": {
        "id": "d82bc36b"
      },
      "outputs": [],
      "source": [
        "# test = \"das werden einmal \\u00fcber eine million kleiner buchenpflanzen werden.\" # text input to the model\n",
        "# test_id = \"2b2b496ccc9b57130f559c4fd827825f\" # identifier for the audio corresponding to the test text\n",
        "# data_path = \"data_thorsten_2210/ThorstenVoice-Dataset-22_10/ThorstenVoice-Dataset_2022.10/wavs/\" # path to dataset folder with wav files from original dataset\n",
        "# seed = 1234\n",
        "test = \"Durante nuestra conversación advertí que la multitud aumentaba, apretándose más.\" # text input to the model\n",
        "test_id = \"19demarzo_0000\" # identifier for the audio corresponding to the test text\n",
        "data_path = \"/datasets/datasetCastellanoReducido/19demarzo/\" # path to dataset folder with wav files from original dataset\n",
        "seed = 1234"
      ]
    },
    {
      "cell_type": "code",
      "execution_count": 7,
      "id": "87ff970d",
      "metadata": {
        "id": "87ff970d"
      },
      "outputs": [],
      "source": [
        "def evaluate_spec_fastpitch_ckpt(spec_gen_model, v_model, test):\n",
        "    with torch.no_grad():\n",
        "        torch.manual_seed(seed)\n",
        "        torch.cuda.manual_seed(seed)\n",
        "        torch.backends.cudnn.enabled = True\n",
        "        torch.backends.cudnn.benchmark = False\n",
        "        parsed = spec_gen_model.parse(str_input=test, normalize=True)\n",
        "        spectrogram = spec_gen_model.generate_spectrogram(tokens=parsed)\n",
        "        print(spectrogram.size())\n",
        "        audio = v_model.convert_spectrogram_to_audio(spec=spectrogram)\n",
        "\n",
        "    spectrogram = spectrogram.to('cpu').numpy()[0]\n",
        "    audio = audio.to('cpu').numpy()[0]\n",
        "    audio = audio / np.abs(audio).max()\n",
        "    return audio, spectrogram"
      ]
    },
    {
      "cell_type": "code",
      "execution_count": 11,
      "id": "70733af0",
      "metadata": {
        "id": "70733af0"
      },
      "outputs": [
        {
          "ename": "IndexError",
          "evalue": "list index out of range",
          "output_type": "error",
          "traceback": [
            "\u001b[0;31m---------------------------------------------------------------------------\u001b[0m",
            "\u001b[0;31mIndexError\u001b[0m                                Traceback (most recent call last)",
            "Cell \u001b[0;32mIn[11], line 3\u001b[0m\n\u001b[1;32m      1\u001b[0m \u001b[39m# load fastpitch and hifigan models\u001b[39;00m\n\u001b[1;32m      2\u001b[0m \u001b[39mimport\u001b[39;00m \u001b[39mglob\u001b[39;00m\u001b[39m,\u001b[39m \u001b[39mos\u001b[39;00m\n\u001b[0;32m----> 3\u001b[0m fastpitch_model_path \u001b[39m=\u001b[39m \u001b[39msorted\u001b[39;49m(\n\u001b[1;32m      4\u001b[0m     glob\u001b[39m.\u001b[39;49mglob(\u001b[39m\"\u001b[39;49m\u001b[39m/home/irene/datasets/NemoSpanishTTS/resultSpanishTTS/FastPitch/*/checkpoints/FastPitch.nemo\u001b[39;49m\u001b[39m\"\u001b[39;49m),\n\u001b[1;32m      5\u001b[0m     key\u001b[39m=\u001b[39;49mos\u001b[39m.\u001b[39;49mpath\u001b[39m.\u001b[39;49mgetmtime\n\u001b[1;32m      6\u001b[0m )[\u001b[39m-\u001b[39;49m\u001b[39m1\u001b[39;49m] \u001b[39m# path_to_fastpitch_nemo_or_ckpt\u001b[39;00m\n\u001b[1;32m      7\u001b[0m hfg_ngc \u001b[39m=\u001b[39m \u001b[39m\"\u001b[39m\u001b[39mtts_en_lj_hifigan_ft_mixerttsx\u001b[39m\u001b[39m\"\u001b[39m \u001b[39m# NGC pretrained model name: https://catalog.ngc.nvidia.com/orgs/nvidia/teams/nemo/models/tts_en_lj_hifigan\u001b[39;00m\n\u001b[1;32m      9\u001b[0m vocoder_model \u001b[39m=\u001b[39m HifiGanModel\u001b[39m.\u001b[39mfrom_pretrained(hfg_ngc, strict\u001b[39m=\u001b[39m\u001b[39mFalse\u001b[39;00m)\u001b[39m.\u001b[39meval()\u001b[39m.\u001b[39mcuda()\n",
            "\u001b[0;31mIndexError\u001b[0m: list index out of range"
          ]
        }
      ],
      "source": [
        "# load fastpitch and hifigan models\n",
        "import glob, os\n",
        "fastpitch_model_path = sorted(\n",
        "    glob.glob(\"/home/irene/datasets/NemoSpanishTTS/resultSpanishTTS/FastPitch/*/checkpoints/FastPitch.nemo\"),\n",
        "    key=os.path.getmtime\n",
        ")[-1] # path_to_fastpitch_nemo_or_ckpt\n",
        "hfg_ngc = \"tts_en_lj_hifigan_ft_mixerttsx\" # NGC pretrained model name: https://catalog.ngc.nvidia.com/orgs/nvidia/teams/nemo/models/tts_en_lj_hifigan\n",
        "\n",
        "vocoder_model = HifiGanModel.from_pretrained(hfg_ngc, strict=False).eval().cuda()\n",
        "if \".nemo\" in fastpitch_model_path:\n",
        "    spec_gen_model = FastPitchModel.restore_from(fastpitch_model_path).eval().cuda()\n",
        "else:\n",
        "    spec_gen_model = FastPitchModel.load_from_checkpoint(checkpoint_path=fastpitch_model_path).eval().cuda()"
      ]
    },
    {
      "cell_type": "code",
      "execution_count": null,
      "id": "27aa1827",
      "metadata": {
        "id": "27aa1827"
      },
      "outputs": [],
      "source": [
        "%matplotlib inline\n",
        "\n",
        "audio, spectrogram = evaluate_spec_fastpitch_ckpt(spec_gen_model, vocoder_model, test)\n",
        "\n",
        "# visualize the spectrogram\n",
        "if spectrogram is not None:\n",
        "    imshow(spectrogram, origin=\"lower\")\n",
        "    plt.show()\n",
        "\n",
        "# audio\n",
        "print(\"original audio\")\n",
        "ipd.display(ipd.Audio(data_path+test_id+'.wav', rate=22050))\n",
        "print(\"predicted audio\")\n",
        "ipd.display(ipd.Audio(audio, rate=22050))"
      ]
    },
    {
      "attachments": {},
      "cell_type": "markdown",
      "id": "15006392",
      "metadata": {
        "id": "15006392"
      },
      "source": [
        "You would hear that the above synthesized audio quality is not as good as we expect. It would be improved after continuing to train 5000 epochs. But again,the quality is still not acceptable. A straightforward solution is to finetune the HiFi-GAN model following the tutorial [FastPitch_Finetuning.ipynb](FastPitch_Finetuning.ipynb). Let's try that out next!"
      ]
    },
    {
      "attachments": {},
      "cell_type": "markdown",
      "id": "a7002b1e",
      "metadata": {
        "id": "a7002b1e"
      },
      "source": [
        "# Finetuning HiFi-GAN\n",
        "\n",
        "Improving speech quality by finetuning HiFi-GAN on synthesized mel-spectrograms from FastPitch."
      ]
    },
    {
      "attachments": {},
      "cell_type": "markdown",
      "id": "4eccd357",
      "metadata": {
        "id": "4eccd357"
      },
      "source": [
        "## Generating synthetic mels\n",
        "\n",
        "To generate mel-spectrograms from FastPitch, we can use `generate_spectrogram` method defined in `nemo/collections/tts/models/fastpitch.py`. However, the resulting spectrogram may be different from ground truth mel spectrogram, as shown below:"
      ]
    },
    {
      "cell_type": "code",
      "execution_count": null,
      "id": "a5edb6fe",
      "metadata": {
        "id": "a5edb6fe"
      },
      "outputs": [],
      "source": [
        "test_audio_filepath = \"data_thorsten_2210/ThorstenVoice-Dataset-22_10/ThorstenVoice-Dataset_2022.10/wavs/43ee28172fe1a9d1eebd77bc09f03e51.wav\"\n",
        "test_audio_text = \"daran beteiligten sich einhundertachtzig kommunen und hochschulen.\""
      ]
    },
    {
      "cell_type": "code",
      "execution_count": null,
      "id": "769f270a",
      "metadata": {
        "id": "769f270a"
      },
      "outputs": [],
      "source": [
        "from matplotlib.pyplot import imshow\n",
        "from nemo.collections.tts.models import FastPitchModel\n",
        "from matplotlib import pyplot as plt\n",
        "import librosa\n",
        "import librosa.display\n",
        "import torch\n",
        "import soundfile as sf\n",
        "import numpy as np\n",
        "from nemo.collections.tts.parts.utils.tts_dataset_utils import BetaBinomialInterpolator\n",
        "\n",
        "def load_wav(audio_file):\n",
        "    with sf.SoundFile(audio_file, 'r') as f:\n",
        "        samples = f.read(dtype='float32')\n",
        "    return samples.transpose()\n",
        "\n",
        "def plot_logspec(spec, axis=None):\n",
        "    librosa.display.specshow(\n",
        "        librosa.amplitude_to_db(spec, ref=np.max),\n",
        "        y_axis='linear',\n",
        "        x_axis=\"time\",\n",
        "        fmin=0,\n",
        "        fmax=8000,\n",
        "        ax=axis\n",
        "    )"
      ]
    },
    {
      "cell_type": "code",
      "execution_count": null,
      "id": "aef1470b",
      "metadata": {
        "id": "aef1470b"
      },
      "outputs": [],
      "source": [
        "spec_model = FastPitchModel.restore_from(fastpitch_model_path).eval().cuda()"
      ]
    },
    {
      "attachments": {},
      "cell_type": "markdown",
      "id": "5a840dcf",
      "metadata": {
        "id": "5a840dcf"
      },
      "source": [
        "So we have 2 types of mel spectrograms that we can use for finetuning HiFi-GAN:\n",
        "\n",
        "### 1. Original mel spectrogram generated from original audio file"
      ]
    },
    {
      "cell_type": "code",
      "execution_count": null,
      "id": "60d49e67",
      "metadata": {
        "id": "60d49e67"
      },
      "outputs": [],
      "source": [
        "print(\"loading original melspec\")\n",
        "y, sr = librosa.load(test_audio_filepath)\n",
        "# change n_fft, win_length, hop_length parameters below based on your specific config file\n",
        "spectrogram2 = librosa.feature.melspectrogram(y=y, sr=sr, n_fft=1024, win_length=1024, hop_length=256)\n",
        "spectrogram = spectrogram2[ :80, :]\n",
        "print(\"spectrogram shape = \", spectrogram.shape)\n",
        "plot_logspec(spectrogram)\n",
        "plt.show()"
      ]
    },
    {
      "attachments": {},
      "cell_type": "markdown",
      "id": "5641b7c4",
      "metadata": {
        "id": "5641b7c4"
      },
      "source": [
        "### 2. Mel spectrogram predicted from FastPitch"
      ]
    },
    {
      "cell_type": "code",
      "execution_count": null,
      "id": "5f448efd",
      "metadata": {
        "id": "5f448efd"
      },
      "outputs": [],
      "source": [
        "print(\"loading fastpitch melspec via generate_spectrogram\")\n",
        "with torch.no_grad():\n",
        "    text = spec_model.parse(test_audio_text, normalize=False)\n",
        "    spectrogram = spec_model.generate_spectrogram(\n",
        "      tokens=text,\n",
        "      speaker=None,\n",
        "    )\n",
        "spectrogram = spectrogram.to('cpu').numpy()[0]\n",
        "plot_logspec(spectrogram)\n",
        "print(\"spectrogram shape = \", spectrogram.shape)\n",
        "plt.show()"
      ]
    },
    {
      "attachments": {},
      "cell_type": "markdown",
      "id": "5c240c79",
      "metadata": {
        "id": "5c240c79"
      },
      "source": [
        "**Note**: The above predicted spectrogram has the duration of 241 frames which is not equal to the ground truth 345 frames. In order to finetune HiFi-GAN we need mel spectrogram predicted from FastPitch with ground truth alignment and duration.\n",
        "\n",
        "### 2.1 Mel spectrogram predicted from FastPitch with groundtruth alignment and duration"
      ]
    },
    {
      "cell_type": "code",
      "execution_count": null,
      "id": "ddd0eef5",
      "metadata": {
        "id": "ddd0eef5"
      },
      "outputs": [],
      "source": [
        "print(\"loading fastpitch melspec via forward method with groundtruth alignment and duration\")\n",
        "with torch.no_grad():\n",
        "    device = spec_model.device\n",
        "    beta_binomial_interpolator = BetaBinomialInterpolator()\n",
        "    text = spec_model.parse(test_audio_text, normalize=False)\n",
        "    text_len = torch.tensor(text.shape[-1], dtype=torch.long, device=device).unsqueeze(0)\n",
        "    audio = load_wav(test_audio_filepath)\n",
        "    audio = torch.from_numpy(audio).unsqueeze(0).to(device)\n",
        "    audio_len = torch.tensor(audio.shape[1], dtype=torch.long, device=device).unsqueeze(0)\n",
        "    spect, spect_len = spec_model.preprocessor(input_signal=audio, length=audio_len)\n",
        "    attn_prior = torch.from_numpy(\n",
        "      beta_binomial_interpolator(spect_len.item(), text_len.item())\n",
        "    ).unsqueeze(0).to(text.device)\n",
        "    spectrogram = spec_model.forward(\n",
        "      text=text,\n",
        "      input_lens=text_len,\n",
        "      spec=spect,\n",
        "      mel_lens=spect_len,\n",
        "      attn_prior=attn_prior,\n",
        "      speaker=None,\n",
        "    )[0]\n",
        "spectrogram = spectrogram.to('cpu').numpy()[0]\n",
        "print(\"spectrogram shape = \", spectrogram.shape)\n",
        "plot_logspec(spectrogram)\n",
        "plt.show()"
      ]
    },
    {
      "attachments": {},
      "cell_type": "markdown",
      "id": "a2c99521",
      "metadata": {
        "id": "a2c99521"
      },
      "source": [
        "In our experience,\n",
        "- Finetuning with #1 has artifacts from the original audio (noise) that get passed on as input to the vocoder resulting in artifacts in vocoder output in the form of noise.\n",
        "- <b> On the other hand, #2.1 (i.e. `Mel spectrogram predicted from FastPitch with groundtruth alignment and duration`) gives the best results because it enables HiFi-GAN to learn mel spectrograms generated by FastPitch as well as duration distributions closer to the real world (i.e. ground truth) durations. </b>\n",
        "\n",
        "From implementation perspective - we follow the same process described in [Finetuning FastPitch for a new speaker](FastPitch_Finetuning.ipynb) - i.e. take the latest checkpoint from FastPitch training and predict spectrograms for each of the input records in `train_manifest_text_normed.json`, `test_manifest_text_normed.json` and `val_manifest_text_normed.json`. NeMo provides an efficient script, [scripts/dataset_processing/tts/generate_mels.py](https://raw.githubusercontent.com/nvidia/NeMo/main/scripts/dataset_processing/tts/generate_mels.py), to generate Mel-spectrograms in the directory `NeMoGermanTTS/mels` and also create new JSON manifests with a suffix `_mel` by adding a new key `\"mel_filepath\"`. For example, `train_manifest_text_normed.json` corresponds to `train_manifest_text_normed_mel.json` saved in the same directory. You can run the following CLI to obtain the new JSON manifests."
      ]
    },
    {
      "cell_type": "code",
      "execution_count": 1,
      "id": "c1dc3025",
      "metadata": {
        "id": "c1dc3025"
      },
      "outputs": [
        {
          "name": "stdout",
          "output_type": "stream",
          "text": [
            "/bin/bash: -c: line 1: syntax error near unexpected token `('\n",
            "/bin/bash: -c: line 1: `cd NeMoGermanTTS && python generate_mels.py      --cpu      --fastpitch-model-ckpt {fastpitch_model_path.split(\"/\", maxsplit=1)[1]}      --input-json-manifests train_manifest_text_normed.json val_manifest_text_normed.json test_manifest_text_normed.json      --output-json-manifest-root ./'\n"
          ]
        }
      ],
      "source": [
        "# !cd NeMoGermanTTS && python generate_mels.py \\\n",
        "#     --cpu \\\n",
        "#     --fastpitch-model-ckpt {fastpitch_model_path.split(\"/\", maxsplit=1)[1]} \\\n",
        "#     --input-json-manifests train_manifest_text_normed.json val_manifest_text_normed.json test_manifest_text_normed.json \\\n",
        "#     --output-json-manifest-root ./\n",
        "    \n",
        "!cd NeMoGermanTTS && python generate_mels.py \\\n",
        "    --cpu \\\n",
        "    --fastpitch-model-ckpt {fastpitch_model_path.split(\"/\", maxsplit=1)[1]} \\\n",
        "    --input-json-manifests train_manifest_text_normed.json val_manifest_text_normed.json test_manifest_text_normed.json \\\n",
        "    --output-json-manifest-root ./"
      ]
    },
    {
      "attachments": {},
      "cell_type": "markdown",
      "id": "d4cb8e4a",
      "metadata": {
        "id": "d4cb8e4a"
      },
      "source": [
        "Revisiting how we implement #2.1 (i.e. Predicted mel spectrogram predicted from FastPitch with groundtruth alignment and duration):\n",
        "\n",
        "1. Notice above that we use audio from dataset (`audio` variable) to compute spectrogram length (`spect_len`):\n",
        "    ```python\n",
        "    spect, spect_len = spec_model.preprocessor(input_signal=audio, length=audio_len)\n",
        "    ```\n",
        "2. and groundtruth alignment (`attn_prior`).\n",
        "    ```python\n",
        "    attn_prior = torch.from_numpy(\n",
        "          beta_binomial_interpolator(spect_len.item(), text_len.item())\n",
        "        ).unsqueeze(0).to(text.device)\n",
        "    ```\n",
        "3. We use both of them to generate synthetic mel spectrogram via `spec_model.forward` method:\n",
        "    ```python\n",
        "    spectrogram = spec_model.forward(\n",
        "          text=text,\n",
        "          input_lens=text_len,\n",
        "          spec=spect,\n",
        "          mel_lens=spect_len,\n",
        "          attn_prior=attn_prior,\n",
        "          speaker=speaker,\n",
        "        )[0]\n",
        "    ```\n",
        "\n",
        "Repeat the above script for train and validation datasets as well."
      ]
    },
    {
      "cell_type": "code",
      "execution_count": null,
      "id": "9b0918cc",
      "metadata": {
        "id": "9b0918cc"
      },
      "outputs": [],
      "source": [
        "# Example HiFi-GAN manifest:\n",
        "!head -n1 NeMoGermanTTS/train_manifest_text_normed_mel.json | jq"
      ]
    },
    {
      "attachments": {},
      "cell_type": "markdown",
      "id": "61cf4696",
      "metadata": {
        "id": "61cf4696"
      },
      "source": [
        "## Launch finetuning\n",
        "\n",
        "We will be re-using the existing HiFi-GAN config and HiFi-GAN pretrained on English."
      ]
    },
    {
      "cell_type": "code",
      "execution_count": null,
      "id": "712df66f",
      "metadata": {
        "id": "712df66f"
      },
      "outputs": [],
      "source": [
        "!cd NeMoGermanTTS && CUDA_VISIBLE_DEVICES=0 python hifigan_finetune.py --config-path . --config-name hifigan.yaml \\\n",
        "    model.max_steps=10 \\\n",
        "    model.optim.lr=0.00001 \\\n",
        "    ~model.optim.sched \\\n",
        "    train_dataset=train_manifest_text_normed_mel.json \\\n",
        "    validation_datasets=val_manifest_text_normed_mel.json \\\n",
        "    exp_manager.exp_dir=resultGermanTTS \\\n",
        "    +init_from_pretrained_model={hfg_ngc} \\\n",
        "    +trainer.val_check_interval=5 \\\n",
        "    trainer.check_val_every_n_epoch=null \\\n",
        "        \n",
        "    model/train_ds=train_ds_finetune \\\n",
        "    model/validation_ds=val_ds_finetune \\\n",
        "    exp_manager.create_wandb_logger=true \\\n",
        "    exp_manager.wandb_logger_kwargs.name=\"tutorial_2\" \\\n",
        "    exp_manager.wandb_logger_kwargs.project=\"GermanTTS\""
      ]
    },
    {
      "attachments": {},
      "cell_type": "markdown",
      "id": "f1e18615",
      "metadata": {
        "id": "f1e18615"
      },
      "source": [
        "<b>Note</b>: We've limited the above run to 10 steps only, so we can validate the implementation within the scope of this tutorial. We recommend evaluating around every 50 steps HiFi-GAN until you get desired quality results."
      ]
    },
    {
      "attachments": {},
      "cell_type": "markdown",
      "id": "bb4a8c7b",
      "metadata": {
        "id": "bb4a8c7b"
      },
      "source": [
        "## Evaluating FastPitch and Finetuned HiFi-GAN\n",
        "\n",
        "Let's evaluate the quality of the FastPitch model generated so far using a HiFi-GAN model finetuned on predicted mels."
      ]
    },
    {
      "cell_type": "code",
      "execution_count": null,
      "id": "bd683d45",
      "metadata": {
        "id": "bd683d45"
      },
      "outputs": [],
      "source": [
        "hfg_path = sorted(glob.glob(\"NeMoGermanTTS/resultGermanTTS/HifiGan/*/checkpoints/HifiGan.nemo\"), key=os.path.getmtime)[-1]\n",
        "\n",
        "if \".nemo\" in hfg_path:\n",
        "    vocoder_model_pt = HifiGanModel.restore_from(hfg_path).eval().cuda()\n",
        "else:\n",
        "    vocoder_model_pt = HifiGanModel.load_from_checkpoint(checkpoint_path=hfg_path).eval().cuda()\n",
        "\n",
        "if \".nemo\" in fastpitch_model_path:\n",
        "    spec_gen_model = FastPitchModel.restore_from(fastpitch_model_path).eval().cuda()\n",
        "else:\n",
        "    spec_gen_model = FastPitchModel.load_from_checkpoint(checkpoint_path=fastpitch_model_path).eval().cuda()"
      ]
    },
    {
      "cell_type": "code",
      "execution_count": null,
      "id": "0a7b7aa2",
      "metadata": {
        "id": "0a7b7aa2"
      },
      "outputs": [],
      "source": [
        "%matplotlib inline\n",
        "\n",
        "audio, spectrogram = evaluate_spec_fastpitch_ckpt(spec_gen_model, vocoder_model_pt, test)\n",
        "\n",
        "# visualize the spectrogram\n",
        "if spectrogram is not None:\n",
        "    imshow(spectrogram, origin=\"lower\")\n",
        "    plt.show()\n",
        "\n",
        "# audio\n",
        "print(\"original audio\")\n",
        "ipd.display(ipd.Audio(data_path+test_id+'.wav', rate=22050))\n",
        "print(\"predicted audio\")\n",
        "ipd.display(ipd.Audio(audio, rate=22050))"
      ]
    },
    {
      "attachments": {},
      "cell_type": "markdown",
      "id": "0700e6f4",
      "metadata": {
        "id": "0700e6f4"
      },
      "source": [
        "That's it!"
      ]
    },
    {
      "cell_type": "code",
      "execution_count": null,
      "id": "UzfwExWZ-xY4",
      "metadata": {
        "id": "UzfwExWZ-xY4"
      },
      "outputs": [],
      "source": []
    }
  ],
  "metadata": {
    "accelerator": "GPU",
    "colab": {
      "gpuType": "T4",
      "provenance": []
    },
    "kernelspec": {
      "display_name": "Python 3",
      "name": "python3"
    },
    "language_info": {
      "codemirror_mode": {
        "name": "ipython",
        "version": 3
      },
      "file_extension": ".py",
      "mimetype": "text/x-python",
      "name": "python",
      "nbconvert_exporter": "python",
      "pygments_lexer": "ipython3",
      "version": "3.10.6"
    }
  },
  "nbformat": 4,
  "nbformat_minor": 5
}
